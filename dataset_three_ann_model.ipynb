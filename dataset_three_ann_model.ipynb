{
 "cells": [
  {
   "cell_type": "code",
   "execution_count": 1,
   "metadata": {},
   "outputs": [],
   "source": [
    "import numpy as np\n",
    "import pandas as pd\n",
    "import matplotlib.pyplot as plt"
   ]
  },
  {
   "cell_type": "markdown",
   "metadata": {},
   "source": [
    "### Import data"
   ]
  },
  {
   "cell_type": "code",
   "execution_count": 2,
   "metadata": {},
   "outputs": [
    {
     "data": {
      "text/plain": [
       "(20630, 4)"
      ]
     },
     "execution_count": 2,
     "metadata": {},
     "output_type": "execute_result"
    }
   ],
   "source": [
    "data = pd.read_csv('data/dataset_3/train/train_data.csv')\n",
    "data.shape"
   ]
  },
  {
   "cell_type": "code",
   "execution_count": 3,
   "metadata": {},
   "outputs": [
    {
     "data": {
      "text/html": [
       "<div>\n",
       "<style scoped>\n",
       "    .dataframe tbody tr th:only-of-type {\n",
       "        vertical-align: middle;\n",
       "    }\n",
       "\n",
       "    .dataframe tbody tr th {\n",
       "        vertical-align: top;\n",
       "    }\n",
       "\n",
       "    .dataframe thead th {\n",
       "        text-align: right;\n",
       "    }\n",
       "</style>\n",
       "<table border=\"1\" class=\"dataframe\">\n",
       "  <thead>\n",
       "    <tr style=\"text-align: right;\">\n",
       "      <th></th>\n",
       "      <th>title</th>\n",
       "      <th>author</th>\n",
       "      <th>text</th>\n",
       "      <th>label</th>\n",
       "    </tr>\n",
       "  </thead>\n",
       "  <tbody>\n",
       "    <tr>\n",
       "      <th>0</th>\n",
       "      <td>House Dem Aide: We Didn’t Even See Comey’s Let...</td>\n",
       "      <td>Darrell Lucus</td>\n",
       "      <td>House Dem Aide: We Didn’t Even See Comey’s Let...</td>\n",
       "      <td>1</td>\n",
       "    </tr>\n",
       "    <tr>\n",
       "      <th>1</th>\n",
       "      <td>FLYNN: Hillary Clinton, Big Woman on Campus - ...</td>\n",
       "      <td>Daniel J. Flynn</td>\n",
       "      <td>Ever get the feeling your life circles the rou...</td>\n",
       "      <td>0</td>\n",
       "    </tr>\n",
       "    <tr>\n",
       "      <th>2</th>\n",
       "      <td>Why the Truth Might Get You Fired</td>\n",
       "      <td>Consortiumnews.com</td>\n",
       "      <td>Why the Truth Might Get You Fired October 29, ...</td>\n",
       "      <td>1</td>\n",
       "    </tr>\n",
       "    <tr>\n",
       "      <th>3</th>\n",
       "      <td>15 Civilians Killed In Single US Airstrike Hav...</td>\n",
       "      <td>Jessica Purkiss</td>\n",
       "      <td>Videos 15 Civilians Killed In Single US Airstr...</td>\n",
       "      <td>1</td>\n",
       "    </tr>\n",
       "    <tr>\n",
       "      <th>4</th>\n",
       "      <td>Iranian woman jailed for fictional unpublished...</td>\n",
       "      <td>Howard Portnoy</td>\n",
       "      <td>Print \\nAn Iranian woman has been sentenced to...</td>\n",
       "      <td>1</td>\n",
       "    </tr>\n",
       "  </tbody>\n",
       "</table>\n",
       "</div>"
      ],
      "text/plain": [
       "                                               title              author  \\\n",
       "0  House Dem Aide: We Didn’t Even See Comey’s Let...       Darrell Lucus   \n",
       "1  FLYNN: Hillary Clinton, Big Woman on Campus - ...     Daniel J. Flynn   \n",
       "2                  Why the Truth Might Get You Fired  Consortiumnews.com   \n",
       "3  15 Civilians Killed In Single US Airstrike Hav...     Jessica Purkiss   \n",
       "4  Iranian woman jailed for fictional unpublished...      Howard Portnoy   \n",
       "\n",
       "                                                text  label  \n",
       "0  House Dem Aide: We Didn’t Even See Comey’s Let...      1  \n",
       "1  Ever get the feeling your life circles the rou...      0  \n",
       "2  Why the Truth Might Get You Fired October 29, ...      1  \n",
       "3  Videos 15 Civilians Killed In Single US Airstr...      1  \n",
       "4  Print \\nAn Iranian woman has been sentenced to...      1  "
      ]
     },
     "execution_count": 3,
     "metadata": {},
     "output_type": "execute_result"
    }
   ],
   "source": [
    "data.head(5)"
   ]
  },
  {
   "cell_type": "code",
   "execution_count": 4,
   "metadata": {},
   "outputs": [
    {
     "data": {
      "text/plain": [
       "0    10343\n",
       "1    10287\n",
       "Name: label, dtype: int64"
      ]
     },
     "execution_count": 4,
     "metadata": {},
     "output_type": "execute_result"
    }
   ],
   "source": [
    "data['label'].value_counts()"
   ]
  },
  {
   "cell_type": "code",
   "execution_count": 5,
   "metadata": {},
   "outputs": [
    {
     "data": {
      "text/plain": [
       "Pam Key                243\n",
       "admin                  193\n",
       "Jerome Hudson          166\n",
       "Charlie Spiering       141\n",
       "John Hayward           140\n",
       "Katherine Rodriguez    124\n",
       "Warner Todd Huston     122\n",
       "Ian Hanchett           119\n",
       "Breitbart News         118\n",
       "Daniel Nussbaum        112\n",
       "Name: author, dtype: int64"
      ]
     },
     "execution_count": 5,
     "metadata": {},
     "output_type": "execute_result"
    }
   ],
   "source": [
    "data['author'].value_counts().head(10)"
   ]
  },
  {
   "cell_type": "code",
   "execution_count": null,
   "metadata": {},
   "outputs": [],
   "source": []
  },
  {
   "cell_type": "markdown",
   "metadata": {},
   "source": [
    "### Text Preprocessing"
   ]
  },
  {
   "cell_type": "code",
   "execution_count": 6,
   "metadata": {},
   "outputs": [
    {
     "name": "stderr",
     "output_type": "stream",
     "text": [
      "[nltk_data] Downloading package stopwords to\n",
      "[nltk_data]     C:\\Users\\abhi\\AppData\\Roaming\\nltk_data...\n",
      "[nltk_data]   Package stopwords is already up-to-date!\n"
     ]
    }
   ],
   "source": [
    "import nltk\n",
    "nltk.download('stopwords')\n",
    "from nltk.corpus import stopwords"
   ]
  },
  {
   "cell_type": "code",
   "execution_count": 7,
   "metadata": {},
   "outputs": [],
   "source": [
    "from sklearn.model_selection import train_test_split"
   ]
  },
  {
   "cell_type": "code",
   "execution_count": 8,
   "metadata": {},
   "outputs": [],
   "source": [
    "# Remove empty (NaN) values with na in dataset\n",
    "data = data.replace(np.nan, 'na', regex=True)"
   ]
  },
  {
   "cell_type": "code",
   "execution_count": 9,
   "metadata": {
    "scrolled": true
   },
   "outputs": [
    {
     "data": {
      "text/html": [
       "<div>\n",
       "<style scoped>\n",
       "    .dataframe tbody tr th:only-of-type {\n",
       "        vertical-align: middle;\n",
       "    }\n",
       "\n",
       "    .dataframe tbody tr th {\n",
       "        vertical-align: top;\n",
       "    }\n",
       "\n",
       "    .dataframe thead th {\n",
       "        text-align: right;\n",
       "    }\n",
       "</style>\n",
       "<table border=\"1\" class=\"dataframe\">\n",
       "  <thead>\n",
       "    <tr style=\"text-align: right;\">\n",
       "      <th></th>\n",
       "      <th>title</th>\n",
       "      <th>author</th>\n",
       "      <th>text</th>\n",
       "      <th>label</th>\n",
       "    </tr>\n",
       "  </thead>\n",
       "  <tbody>\n",
       "    <tr>\n",
       "      <th>0</th>\n",
       "      <td>House Dem Aide: We Didn’t Even See Comey’s Let...</td>\n",
       "      <td>Darrell Lucus</td>\n",
       "      <td>House Dem Aide: We Didn’t Even See Comey’s Let...</td>\n",
       "      <td>1</td>\n",
       "    </tr>\n",
       "    <tr>\n",
       "      <th>1</th>\n",
       "      <td>FLYNN: Hillary Clinton, Big Woman on Campus - ...</td>\n",
       "      <td>Daniel J. Flynn</td>\n",
       "      <td>Ever get the feeling your life circles the rou...</td>\n",
       "      <td>0</td>\n",
       "    </tr>\n",
       "    <tr>\n",
       "      <th>2</th>\n",
       "      <td>Why the Truth Might Get You Fired</td>\n",
       "      <td>Consortiumnews.com</td>\n",
       "      <td>Why the Truth Might Get You Fired October 29, ...</td>\n",
       "      <td>1</td>\n",
       "    </tr>\n",
       "    <tr>\n",
       "      <th>3</th>\n",
       "      <td>15 Civilians Killed In Single US Airstrike Hav...</td>\n",
       "      <td>Jessica Purkiss</td>\n",
       "      <td>Videos 15 Civilians Killed In Single US Airstr...</td>\n",
       "      <td>1</td>\n",
       "    </tr>\n",
       "    <tr>\n",
       "      <th>4</th>\n",
       "      <td>Iranian woman jailed for fictional unpublished...</td>\n",
       "      <td>Howard Portnoy</td>\n",
       "      <td>Print \\nAn Iranian woman has been sentenced to...</td>\n",
       "      <td>1</td>\n",
       "    </tr>\n",
       "  </tbody>\n",
       "</table>\n",
       "</div>"
      ],
      "text/plain": [
       "                                               title              author  \\\n",
       "0  House Dem Aide: We Didn’t Even See Comey’s Let...       Darrell Lucus   \n",
       "1  FLYNN: Hillary Clinton, Big Woman on Campus - ...     Daniel J. Flynn   \n",
       "2                  Why the Truth Might Get You Fired  Consortiumnews.com   \n",
       "3  15 Civilians Killed In Single US Airstrike Hav...     Jessica Purkiss   \n",
       "4  Iranian woman jailed for fictional unpublished...      Howard Portnoy   \n",
       "\n",
       "                                                text  label  \n",
       "0  House Dem Aide: We Didn’t Even See Comey’s Let...      1  \n",
       "1  Ever get the feeling your life circles the rou...      0  \n",
       "2  Why the Truth Might Get You Fired October 29, ...      1  \n",
       "3  Videos 15 Civilians Killed In Single US Airstr...      1  \n",
       "4  Print \\nAn Iranian woman has been sentenced to...      1  "
      ]
     },
     "execution_count": 9,
     "metadata": {},
     "output_type": "execute_result"
    }
   ],
   "source": [
    "data.head(5)"
   ]
  },
  {
   "cell_type": "code",
   "execution_count": null,
   "metadata": {},
   "outputs": [],
   "source": []
  },
  {
   "cell_type": "markdown",
   "metadata": {},
   "source": [
    "#### Concatenate feature inputs"
   ]
  },
  {
   "cell_type": "code",
   "execution_count": 10,
   "metadata": {},
   "outputs": [
    {
     "data": {
      "text/html": [
       "<div>\n",
       "<style scoped>\n",
       "    .dataframe tbody tr th:only-of-type {\n",
       "        vertical-align: middle;\n",
       "    }\n",
       "\n",
       "    .dataframe tbody tr th {\n",
       "        vertical-align: top;\n",
       "    }\n",
       "\n",
       "    .dataframe thead th {\n",
       "        text-align: right;\n",
       "    }\n",
       "</style>\n",
       "<table border=\"1\" class=\"dataframe\">\n",
       "  <thead>\n",
       "    <tr style=\"text-align: right;\">\n",
       "      <th></th>\n",
       "      <th>0</th>\n",
       "      <th>label</th>\n",
       "    </tr>\n",
       "  </thead>\n",
       "  <tbody>\n",
       "    <tr>\n",
       "      <th>0</th>\n",
       "      <td>House Dem Aide: We Didn’t Even See Comey’s Let...</td>\n",
       "      <td>1</td>\n",
       "    </tr>\n",
       "  </tbody>\n",
       "</table>\n",
       "</div>"
      ],
      "text/plain": [
       "                                                   0  label\n",
       "0  House Dem Aide: We Didn’t Even See Comey’s Let...      1"
      ]
     },
     "execution_count": 10,
     "metadata": {},
     "output_type": "execute_result"
    }
   ],
   "source": [
    "frames = [data['title'],data['author'],data['text']]\n",
    "new_data = pd.Series.to_frame(pd.concat(frames))\n",
    "new_data['label'] = data['label']\n",
    "new_data[:1]"
   ]
  },
  {
   "cell_type": "code",
   "execution_count": 11,
   "metadata": {},
   "outputs": [],
   "source": [
    "data['combined_input'] = data['author'].map(str) + data['title'].map(str)+data['text'].map(str)"
   ]
  },
  {
   "cell_type": "code",
   "execution_count": 12,
   "metadata": {},
   "outputs": [],
   "source": [
    "# Split data into train and test datasets\n",
    "# We have around 20630 entries, of which 20% will be used for testing and the rest will be used for training and validataion\n",
    "# We will be using k-flod cross validation, therefore we do not need to split train data further into two parts as our k-flod CV\n",
    "# will do that for us\n",
    "seed = 9\n",
    "np.random.seed(seed)\n",
    "train_data, test_data = train_test_split(data, test_size = 0.2, random_state = seed)"
   ]
  },
  {
   "cell_type": "code",
   "execution_count": 13,
   "metadata": {},
   "outputs": [
    {
     "data": {
      "text/plain": [
       "((16504, 5), (4126, 5))"
      ]
     },
     "execution_count": 13,
     "metadata": {},
     "output_type": "execute_result"
    }
   ],
   "source": [
    "train_data.shape, test_data.shape"
   ]
  },
  {
   "cell_type": "code",
   "execution_count": 14,
   "metadata": {},
   "outputs": [
    {
     "data": {
      "text/html": [
       "<div>\n",
       "<style scoped>\n",
       "    .dataframe tbody tr th:only-of-type {\n",
       "        vertical-align: middle;\n",
       "    }\n",
       "\n",
       "    .dataframe tbody tr th {\n",
       "        vertical-align: top;\n",
       "    }\n",
       "\n",
       "    .dataframe thead th {\n",
       "        text-align: right;\n",
       "    }\n",
       "</style>\n",
       "<table border=\"1\" class=\"dataframe\">\n",
       "  <thead>\n",
       "    <tr style=\"text-align: right;\">\n",
       "      <th></th>\n",
       "      <th>title</th>\n",
       "      <th>author</th>\n",
       "      <th>text</th>\n",
       "      <th>label</th>\n",
       "      <th>combined_input</th>\n",
       "    </tr>\n",
       "  </thead>\n",
       "  <tbody>\n",
       "    <tr>\n",
       "      <th>11762</th>\n",
       "      <td>The French Fear Islamization but Do Nothing</td>\n",
       "      <td>Guillaume Durocher</td>\n",
       "      <td>Posted on November 4, 2016 The French Fear Isl...</td>\n",
       "      <td>1</td>\n",
       "      <td>Guillaume DurocherThe French Fear Islamization...</td>\n",
       "    </tr>\n",
       "    <tr>\n",
       "      <th>2179</th>\n",
       "      <td>What We Just Witnessed Has Rarely Occurred In ...</td>\n",
       "      <td>King World News</td>\n",
       "      <td>32   King World News \\nOn the heels of yesterd...</td>\n",
       "      <td>1</td>\n",
       "      <td>King World NewsWhat We Just Witnessed Has Rare...</td>\n",
       "    </tr>\n",
       "    <tr>\n",
       "      <th>11951</th>\n",
       "      <td>Flight Attendants Fight Human Trafficking With...</td>\n",
       "      <td>Jacey Fortin</td>\n",
       "      <td>Donna Hubbard, a flight attendant who lives ou...</td>\n",
       "      <td>0</td>\n",
       "      <td>Jacey FortinFlight Attendants Fight Human Traf...</td>\n",
       "    </tr>\n",
       "    <tr>\n",
       "      <th>19925</th>\n",
       "      <td>Rockefeller Foundation Picks Rajiv J. Shah, a ...</td>\n",
       "      <td>David Gelles</td>\n",
       "      <td>Rajiv J. Shah, a trustee of the Rockefeller Fo...</td>\n",
       "      <td>0</td>\n",
       "      <td>David GellesRockefeller Foundation Picks Rajiv...</td>\n",
       "    </tr>\n",
       "    <tr>\n",
       "      <th>10052</th>\n",
       "      <td>Carl Bernstein: Hillary Scandals Not In The “S...</td>\n",
       "      <td>James Fulford</td>\n",
       "      <td></td>\n",
       "      <td>1</td>\n",
       "      <td>James FulfordCarl Bernstein: Hillary Scandals ...</td>\n",
       "    </tr>\n",
       "  </tbody>\n",
       "</table>\n",
       "</div>"
      ],
      "text/plain": [
       "                                                   title              author  \\\n",
       "11762        The French Fear Islamization but Do Nothing  Guillaume Durocher   \n",
       "2179   What We Just Witnessed Has Rarely Occurred In ...     King World News   \n",
       "11951  Flight Attendants Fight Human Trafficking With...        Jacey Fortin   \n",
       "19925  Rockefeller Foundation Picks Rajiv J. Shah, a ...        David Gelles   \n",
       "10052  Carl Bernstein: Hillary Scandals Not In The “S...       James Fulford   \n",
       "\n",
       "                                                    text  label  \\\n",
       "11762  Posted on November 4, 2016 The French Fear Isl...      1   \n",
       "2179   32   King World News \\nOn the heels of yesterd...      1   \n",
       "11951  Donna Hubbard, a flight attendant who lives ou...      0   \n",
       "19925  Rajiv J. Shah, a trustee of the Rockefeller Fo...      0   \n",
       "10052                                                         1   \n",
       "\n",
       "                                          combined_input  \n",
       "11762  Guillaume DurocherThe French Fear Islamization...  \n",
       "2179   King World NewsWhat We Just Witnessed Has Rare...  \n",
       "11951  Jacey FortinFlight Attendants Fight Human Traf...  \n",
       "19925  David GellesRockefeller Foundation Picks Rajiv...  \n",
       "10052  James FulfordCarl Bernstein: Hillary Scandals ...  "
      ]
     },
     "execution_count": 14,
     "metadata": {},
     "output_type": "execute_result"
    }
   ],
   "source": [
    "# This will be random every time we split our data\n",
    "train_data[:5]"
   ]
  },
  {
   "cell_type": "code",
   "execution_count": 15,
   "metadata": {},
   "outputs": [
    {
     "data": {
      "text/html": [
       "<div>\n",
       "<style scoped>\n",
       "    .dataframe tbody tr th:only-of-type {\n",
       "        vertical-align: middle;\n",
       "    }\n",
       "\n",
       "    .dataframe tbody tr th {\n",
       "        vertical-align: top;\n",
       "    }\n",
       "\n",
       "    .dataframe thead th {\n",
       "        text-align: right;\n",
       "    }\n",
       "</style>\n",
       "<table border=\"1\" class=\"dataframe\">\n",
       "  <thead>\n",
       "    <tr style=\"text-align: right;\">\n",
       "      <th></th>\n",
       "      <th>title</th>\n",
       "      <th>author</th>\n",
       "      <th>text</th>\n",
       "      <th>label</th>\n",
       "      <th>combined_input</th>\n",
       "    </tr>\n",
       "  </thead>\n",
       "  <tbody>\n",
       "    <tr>\n",
       "      <th>2277</th>\n",
       "      <td>Fifth Mexican Journalist Murdered in 90 Days</td>\n",
       "      <td>Ildefonso Ortiz and Brandon Darby</td>\n",
       "      <td>Suspected cartel gunmen killed another   journ...</td>\n",
       "      <td>0</td>\n",
       "      <td>Ildefonso Ortiz and Brandon DarbyFifth Mexican...</td>\n",
       "    </tr>\n",
       "    <tr>\n",
       "      <th>8066</th>\n",
       "      <td>Suburban Chicago School Teaches ’Blackenomics,...</td>\n",
       "      <td>Warner Todd Huston</td>\n",
       "      <td>A suburban Chicago high school is taking the O...</td>\n",
       "      <td>0</td>\n",
       "      <td>Warner Todd HustonSuburban Chicago School Teac...</td>\n",
       "    </tr>\n",
       "    <tr>\n",
       "      <th>16081</th>\n",
       "      <td>John Podesta’s Sister-in-Law Lobbied For Rayth...</td>\n",
       "      <td>Michael Krieger</td>\n",
       "      <td>at 11:08 am 1 Comment \\nThe Podesta family see...</td>\n",
       "      <td>1</td>\n",
       "      <td>Michael KriegerJohn Podesta’s Sister-in-Law Lo...</td>\n",
       "    </tr>\n",
       "    <tr>\n",
       "      <th>16560</th>\n",
       "      <td>Review: Graham, Cunningham and Taylor, All Tog...</td>\n",
       "      <td>Alastair Macaulay</td>\n",
       "      <td>The triple bill of dances by Martha Graham, Me...</td>\n",
       "      <td>0</td>\n",
       "      <td>Alastair MacaulayReview: Graham, Cunningham an...</td>\n",
       "    </tr>\n",
       "    <tr>\n",
       "      <th>5565</th>\n",
       "      <td>Ashton Kutcher Rescues 6,000 Sex Trafficking V...</td>\n",
       "      <td>Amando Flavio</td>\n",
       "      <td>Christopher Ashton Kutcher is a well-known fig...</td>\n",
       "      <td>1</td>\n",
       "      <td>Amando FlavioAshton Kutcher Rescues 6,000 Sex ...</td>\n",
       "    </tr>\n",
       "  </tbody>\n",
       "</table>\n",
       "</div>"
      ],
      "text/plain": [
       "                                                   title  \\\n",
       "2277        Fifth Mexican Journalist Murdered in 90 Days   \n",
       "8066   Suburban Chicago School Teaches ’Blackenomics,...   \n",
       "16081  John Podesta’s Sister-in-Law Lobbied For Rayth...   \n",
       "16560  Review: Graham, Cunningham and Taylor, All Tog...   \n",
       "5565   Ashton Kutcher Rescues 6,000 Sex Trafficking V...   \n",
       "\n",
       "                                  author  \\\n",
       "2277   Ildefonso Ortiz and Brandon Darby   \n",
       "8066                  Warner Todd Huston   \n",
       "16081                    Michael Krieger   \n",
       "16560                  Alastair Macaulay   \n",
       "5565                       Amando Flavio   \n",
       "\n",
       "                                                    text  label  \\\n",
       "2277   Suspected cartel gunmen killed another   journ...      0   \n",
       "8066   A suburban Chicago high school is taking the O...      0   \n",
       "16081  at 11:08 am 1 Comment \\nThe Podesta family see...      1   \n",
       "16560  The triple bill of dances by Martha Graham, Me...      0   \n",
       "5565   Christopher Ashton Kutcher is a well-known fig...      1   \n",
       "\n",
       "                                          combined_input  \n",
       "2277   Ildefonso Ortiz and Brandon DarbyFifth Mexican...  \n",
       "8066   Warner Todd HustonSuburban Chicago School Teac...  \n",
       "16081  Michael KriegerJohn Podesta’s Sister-in-Law Lo...  \n",
       "16560  Alastair MacaulayReview: Graham, Cunningham an...  \n",
       "5565   Amando FlavioAshton Kutcher Rescues 6,000 Sex ...  "
      ]
     },
     "execution_count": 15,
     "metadata": {},
     "output_type": "execute_result"
    }
   ],
   "source": [
    "test_data[:5]"
   ]
  },
  {
   "cell_type": "markdown",
   "metadata": {},
   "source": [
    "#### Train features and targets"
   ]
  },
  {
   "cell_type": "code",
   "execution_count": 16,
   "metadata": {},
   "outputs": [],
   "source": [
    "X_train, y_train = train_data.iloc[:,4].values, train_data.iloc[:,3].values"
   ]
  },
  {
   "cell_type": "code",
   "execution_count": 17,
   "metadata": {},
   "outputs": [
    {
     "data": {
      "text/plain": [
       "((16504,), (16504,))"
      ]
     },
     "execution_count": 17,
     "metadata": {},
     "output_type": "execute_result"
    }
   ],
   "source": [
    "X_train.shape, y_train.shape"
   ]
  },
  {
   "cell_type": "code",
   "execution_count": 18,
   "metadata": {},
   "outputs": [
    {
     "data": {
      "text/plain": [
       "array(['Guillaume DurocherThe French Fear Islamization but Do NothingPosted on November 4, 2016 The French Fear Islamization but Do Nothing Guillaume Durocher, American Renaissance, November 2, 2016 Not even the Front National is prepared to act. \\nIn his classic study Democracy in America , Alexis de Tocqueville wrote about Southerners’ attitudes towards the rapidly expanding population of Blacks: \\nIn the states of the South, they are quiet; they do not speak about the future to foreigners; they avoid explaining themselves with their friends; everyone is in denial about it even with themselves. There is something more frightening about the silence of the South than the noisy fears of the North. [1] \\nAlmost two centuries later, there is a similar attitude of denial among French politicians about the steady Afro-Islamization of France. Conservatives are happy to talk about “Islamic totalitarianism,” “secularism,” “burkinis,” etc, but not the underlying problem, which is continued Muslim immigration. Socialists recognize the problem in private, but do nothing either to stop the flood of Africans and Muslims. There is something surreal about the situation. \\nThe most striking example of awareness combined with inactivity was provided recently by the publication of a book of exclusive interviews with our painfully uncharismatic and ineffectual president, the Socialist François Hollande. Among Mr. Hollande’s statements , one finds: On conservative politician Nadine Morano’s saying that France is “a country of the white race” (quoting Charles de Gaulle): “I am convinced that, when one asks the French, the majority have her position. [. . .] They think: ‘We are for the most part Whites. There are more Whites than others.’ ” On Islamic immigration: “There are at the same time things which work very well and the accumulation of potential bombs linked to a continuous immigration. Because it continues.” On the salience of race in politics: “The Left cannot win on the theme of identity, but it can lose on the theme of identity.” On ethnic segregation and potential civil war: “How can we avoid partition? Because that is really what is happening: partition.” \\nMr. Hollande recognizes that integration, let alone assimilation, is not happening and that “at some point [immigration] will have to stop.” And yet, during his four years as president, he has done nothing to stop it. Instead, his government has radically increased the rate of naturalizations of foreigners , providing the flagging Socialists with thousands of new voters in time for national elections next spring. \\nOn the Right, we have the conservative party, now called “Les Républicains,” led by former president Nicolas Sarkozy. He knows racial problems well, having made a career from a sort of low-level race-baiting while, as president, actually letting more immigrants settle in France than his Socialist predecessors. Mr. Sarkozy is also well aware of the medium-term existential threat to France. As he said recently at a political meeting: \\nThe Sahel will in 30 years have 200 million inhabitants. There are 6 to 8 children per family on average in the Sahel. Can we continue family reunification in these conditions? Is the future of the Sahel’s children to end up in our cities’ neighborhoods? Even though we have no jobs, no housing, and we no longer have the means to pay benefits for families who do not pay one cent in taxes. \\nWell said! But can Mr. Sarkozy claim to have been unaware of these facts while he was president from 2007 to 2012? The end of family reunification would be welcome, but in the face of the demographic threat to France and all of Europe, this is like fending off a rhinoceros with a water-pistol. Other than this, Mr. Sarkozy has mainly been trying to win the conservative party primaries by complaining about “burkinis” and demanding “assimilation.” However, as a former adviser Patrick Buisson –a Rightist who recently published a book on his disenchantment with Mr. Sarkozy–has said: “He is ready to say what is needed to get elected and to then do nothing.” French police ask a woman to remove some of her clothing to comply with a ban on “burkinis.” \\nThe gravity of the situation is matched only by the sheer fecklessness of European politicians . According to United Nations statistics, the population of Europe (including a growing proportion of highly-fertile non-Whites) will stagnate and decline this century while that of Africa is set to quadruple to a whopping 4 billion. The most important, tragic, horrifying, ungodly, evil question facing Western Civilization and mankind this century is this: Will Europe turn African ? \\nBooks warning against Islamization, whether by journalists or second-rate politicians, top the best-seller lists, but most French people care more about welfare and pay checks than long-term considerations. Even on economic issues, they would rather stay in denial, vaguely hoping the problems of a heavily state-run French economy in an inefficient Eurozone monetary union will sort themselves out on their own, rather than ask hard questions. Ethno-religious questions are even more inconceivable. \\nIt is true that diversity is not yet an unmanageable problem in the daily lives of most Frenchmen, aside from the unpleasant evening news about Muslims shooting up hundreds of people at a rock concert, running down dozens of people with a truck on Bastille Day, or trying to burn policemen to death . Incidentally, the last time France’s religious homogeneity was broken–during the Protestant Reformation–this led to a civil war between Catholics and Protestants. \\nWe are told that mass government surveillance, abrogation of civil liberties, and mass murder by the fanatics of a Middle Eastern religion are the price we pay for enjoying the fruits of diversity. And if you don’t like it, you will join the scores of European patriots who have been fined and even jailed under anti-free-speech laws for “inciting hatred.” (By the way, France has passed special laws to counter the Islamic terrorism. These same laws have been invoked to spy on thousands of patriots who have been designated as “security threats.”) \\nNonetheless, the current offering for next spring’s presidential elections in France is dismal. Besides Mr. Hollande and Mr. Sarkozy, with whom the French are thoroughly disenchanted, there is the frontrunner in the conservative primaries, Alain Juppé, a felon guilty of misusing public funds, who is proud of France’s “diversity.” He speaks of France’s new “happy identity,” and is being called a “steady,” “serious” candidate–who will change nothing. As mayor of Bordeaux, he noted that 60 percent of the students in some of his schools are “foreign-language speakers,” but appeared to think this was nothing worse than an exciting challenge. \\nThen there is the eternal promise of the Front National, a party that has risen to unprecedented heights in polls and secondary elections. But this has come at a significant cost: Marine Le Pen has gone to great lengths to “detoxify” the party and stay within the bounds acceptable to France’s heavily policed and state-dependent mainstream media. The “new FN” talks more about dismantling the European Union and the Euro than about identity and Islam, let alone race. \\nMarine Le Pen is breaking no new ground in the fight against political incorrectness, in contrast with the Alternative for Germany’s Frauke Petry on the other side of the Rhine. And yet, a solid two-thirds of French people still strongly oppose Miss Le Pen. She will probably reach the second-round runoff of the presidential elections and then lose in a landslide, though surely with a better score than her father’s 18 percent in 2002. The majority of Frenchmen are likely to be repelled by the prospect of an FN government that represents the working classes and the ethnocentric fringe. The conservatives, for their part, have refused to work with the FN ever since the French branch of the B’nai B’rith asked them to in 1986 . Marine Le Pen \\nThe most groundbreaking politician in France today is probably the mayor of Béziers, Robert Ménard, who, in a former life as a leftist, founded Reporters Without Borders, but now calls himself a reactionary. He has broken French law by counting the city’s school children by religion–he found that 65 percent were Muslim, judging from their first names. He wants to reinstate the death penalty, opposes homosexual marriage, and he visited a refugee center to tell the occupants they are not welcome in France. Recently he proposed a municipal referendum to reject the imposition of “refugees” on his town. \\nDisenchantment is severe among the French: 83 percent think Mr. Hollande is “disqualified” as president due to his failure on unemployment. Two-thirds think Mr. Sarkozy and Mr. Hollande were equally bad presidents , and a solid majority, continuously egged on by a hostile media, are “worried” by Marine Le Pen . I am inclined to agree with best-selling author Éric Zemmour , whose latest book is Un Quinquennat Pour Rien (“A Five-Year Term for Nothing”), when he says that the next year’s elections are pointless. \\nWhy is there such a divide between the aspirations of French voters and the politicians on offer? I believe this can be explained only by the authoritarian cliquishness of the French political system: The parties and the media serve as critical choke points to prevent the penetration of nationalist and identitarian movements that might appeal to a majority of the French people. No Trump-like figure–half independent billionaire half media personality–has emerged to break this stranglehold by uniting the nationalist fringe of the disenfranchised white working class with mainstream conservative voters. \\nAll this is depressing, but one must not forget that, as the great European historian Dominique Venner said: “History is nothing but a set of strategic surprises.” The presidential elections are in April and May, and six months is a long time in politics. France cannot remain unaffected by the enormous political and cultural gains made in recent years by nationalists across the West. Happy surprises do happen. If Donald Trump were to win, this would set a patriotic and anti-immigration precedent for many Europeans governments. There is a long tradition of opportunistic European politicians slavishly following the American political and cultural lead. \\nThe mainstream political establishments across Europe are reeling from the economic crisis, the migrant invasion, and–one must not underestimate this–the mainstream media’s own economic and legitimacy crisis due to the rise of alternative media. These establishments are merely trying, in a dull bovine reflex, to keep the ship on course without ever questioning their premises. But this is proving harder and harder. German Chancellor Angela Merkel, who for her role in opening the floodgates to Afro-Islamic colonization is an objective enemy of Europe, is facing real problems. Her party, the so-called Christian-Democratic Union, has reached its lowest ever levels of support , falling to less than 30 percent. \\nThe critical media-political choke points of power in the “democratic” West–particularly in America, Germany, and France–are more open for takeover than ever. If one or two go, particularly America, many of the rest are likely to follow. If we are lucky, a major shift towards national-populist governments could be possible. This would appeal to the great majority of our people and drastically reduce the pace of dispossession. And that could be a prelude for far greater things to come.'],\n",
       "      dtype=object)"
      ]
     },
     "execution_count": 18,
     "metadata": {},
     "output_type": "execute_result"
    }
   ],
   "source": [
    "X_train[:1]"
   ]
  },
  {
   "cell_type": "code",
   "execution_count": 19,
   "metadata": {},
   "outputs": [
    {
     "data": {
      "text/plain": [
       "array([1], dtype=int64)"
      ]
     },
     "execution_count": 19,
     "metadata": {},
     "output_type": "execute_result"
    }
   ],
   "source": [
    "y_train[:1]"
   ]
  },
  {
   "cell_type": "code",
   "execution_count": null,
   "metadata": {
    "scrolled": false
   },
   "outputs": [],
   "source": []
  },
  {
   "cell_type": "markdown",
   "metadata": {},
   "source": [
    "#### Test features and targets"
   ]
  },
  {
   "cell_type": "code",
   "execution_count": 20,
   "metadata": {},
   "outputs": [],
   "source": [
    "X_test, y_test = test_data.iloc[:,4].values, test_data.iloc[:,3].values"
   ]
  },
  {
   "cell_type": "code",
   "execution_count": 21,
   "metadata": {},
   "outputs": [
    {
     "data": {
      "text/plain": [
       "((4126,), (4126,))"
      ]
     },
     "execution_count": 21,
     "metadata": {},
     "output_type": "execute_result"
    }
   ],
   "source": [
    "X_test.shape, y_test.shape"
   ]
  },
  {
   "cell_type": "code",
   "execution_count": 22,
   "metadata": {},
   "outputs": [
    {
     "data": {
      "text/plain": [
       "array(['Ildefonso Ortiz and Brandon DarbyFifth Mexican Journalist Murdered in 90 DaysSuspected cartel gunmen killed another   journalist. This year, reporters exposing drug cartels and their ties to Mexican politicians have become targets with five murders taking place in 2017. [Mexico’s Rio Doce confirmed the murder of its founder, Javier Valdez, an   investigator and author who had been reporting on Mexico’s organized crime. Valdez was driving a red Toyota Corolla along a city street in Culiacan, Sinaloa, when unidentified gunmen shot him, Rio Doce reported. The local print weekly and online publication is one of the few news outlets that continues to carry out   investigations in Mexico exposing the deep ties between Mexican politicians and drug cartels.   Valdez’s murder comes just weeks after cartel gunmen murdered respected journalist Maximino Rodriguez Palacios in Baja California Sur as he drove with his wife to a shopping center, Breitbart Texas reported. The murder remains unsolved.  Just days before the murder of Rodriguez, cartel gunmen from the La Linea faction of the Juarez Cartel killed   journalist Miroslava Breach, Breitbart Texas reported. Breach’s death occurred after her work exposed how the    of one of the La Linea leaders was going to be running for mayor in the state of Chihuahua.  Mexico’s Network of Journalists from the Northeast expressed their condemnation and demanded that Mexico’s government stop turning a blind eye to the escalating violence.  “We come once again and as many times as necessary to harshly demand that authorities carry out their duty of protecting citizens from criminals and punish criminals according to the Rule of Law,” a prepared statement from the network revealed. Ildefonso Ortiz is an   journalist with Breitbart Texas. He   the Cartel Chronicles project with Brandon Darby and Stephen K. Bannon.  You can follow him on Twitter and on Facebook. Brandon Darby is managing director and    of Breitbart Texas. He   the Cartel Chronicles project with Ildefonso Ortiz and Stephen K. Bannon. Follow him on Twitter and Facebook. He can be contacted at bdarby@breitbart. com. This article has been updated to reflect the correct first name spelling for the murdered journalist, Javier Valdez. '],\n",
       "      dtype=object)"
      ]
     },
     "execution_count": 22,
     "metadata": {},
     "output_type": "execute_result"
    }
   ],
   "source": [
    "X_test[:1]"
   ]
  },
  {
   "cell_type": "code",
   "execution_count": 23,
   "metadata": {},
   "outputs": [
    {
     "data": {
      "text/plain": [
       "array([0], dtype=int64)"
      ]
     },
     "execution_count": 23,
     "metadata": {},
     "output_type": "execute_result"
    }
   ],
   "source": [
    "y_test[:1]"
   ]
  },
  {
   "cell_type": "code",
   "execution_count": null,
   "metadata": {},
   "outputs": [],
   "source": []
  },
  {
   "cell_type": "code",
   "execution_count": 24,
   "metadata": {},
   "outputs": [],
   "source": [
    "import re\n",
    "# from bs4 import BeautifulSoup"
   ]
  },
  {
   "cell_type": "code",
   "execution_count": 25,
   "metadata": {},
   "outputs": [],
   "source": [
    "\"\"\"\n",
    "REMOVE_STOPWORDS truncates stopwrds from the string and returns modified string\n",
    "    INPUT:\n",
    "        >> string\n",
    "    OUTPUT:\n",
    "        >> Modified string without stopwords\n",
    "\"\"\"\n",
    "def remove_stopwords(text):\n",
    "    text = [word for word in text.split() if word not in STOPWORDS]\n",
    "    text = ' '.join(text)\n",
    "    return text"
   ]
  },
  {
   "cell_type": "code",
   "execution_count": 26,
   "metadata": {},
   "outputs": [],
   "source": [
    "REPLACE_BY_SPACE_RE = re.compile('[/(){}\\[\\]\\|@,;]')\n",
    "BAD_SYMBOLS_RE = re.compile('[^0-9a-z #+_]')\n",
    "STOPWORDS = set(stopwords.words('english'))\n",
    "\n",
    "def text_prepare(text):\n",
    "    \"\"\"\n",
    "        text: a string\n",
    "        \n",
    "        return: modified initial string\n",
    "    \"\"\"\n",
    "     # convert all characters in a string to lowercase\n",
    "    text = text.lower()\n",
    "    \n",
    "    #replace Symbols with a space in string\n",
    "    text = re.sub(REPLACE_BY_SPACE_RE, \" \",text)\n",
    "    \n",
    "    # delete unwanted synbols from string\n",
    "    text = re.sub(BAD_SYMBOLS_RE,\"\", text)\n",
    "    \n",
    "    # delete stopwords from text\n",
    "    text = remove_stopwords(text)\n",
    "    \n",
    "    return text"
   ]
  },
  {
   "cell_type": "code",
   "execution_count": 27,
   "metadata": {},
   "outputs": [],
   "source": [
    "X_train = [text_prepare(x) for x in X_train]"
   ]
  },
  {
   "cell_type": "code",
   "execution_count": 28,
   "metadata": {},
   "outputs": [],
   "source": [
    "X_test = [text_prepare(x) for x in X_test]"
   ]
  },
  {
   "cell_type": "code",
   "execution_count": 29,
   "metadata": {},
   "outputs": [
    {
     "data": {
      "text/plain": [
       "['guillaume durocherthe french fear islamization nothingposted november 4 2016 french fear islamization nothing guillaume durocher american renaissance november 2 2016 even front national prepared act classic study democracy america alexis de tocqueville wrote southerners attitudes towards rapidly expanding population blacks states south quiet speak future foreigners avoid explaining friends everyone denial even something frightening silence south noisy fears north 1 almost two centuries later similar attitude denial among french politicians steady afroislamization france conservatives happy talk islamic totalitarianism secularism burkinis etc underlying problem continued muslim immigration socialists recognize problem private nothing either stop flood africans muslims something surreal situation striking example awareness combined inactivity provided recently publication book exclusive interviews painfully uncharismatic ineffectual president socialist franois hollande among mr hollandes statements one finds conservative politician nadine moranos saying france country white race quoting charles de gaulle convinced one asks french majority position think part whites whites others islamic immigration time things work well accumulation potential bombs linked continuous immigration continues salience race politics left cannot win theme identity lose theme identity ethnic segregation potential civil war avoid partition really happening partition mr hollande recognizes integration let alone assimilation happening point immigration stop yet four years president done nothing stop instead government radically increased rate naturalizations foreigners providing flagging socialists thousands new voters time national elections next spring right conservative party called les rpublicains led former president nicolas sarkozy knows racial problems well made career sort lowlevel racebaiting president actually letting immigrants settle france socialist predecessors mr sarkozy also well aware mediumterm existential threat france said recently political meeting sahel 30 years 200 million inhabitants 6 8 children per family average sahel continue family reunification conditions future sahels children end cities neighborhoods even though jobs housing longer means pay benefits families pay one cent taxes well said mr sarkozy claim unaware facts president 2007 2012 end family reunification would welcome face demographic threat france europe like fending rhinoceros waterpistol mr sarkozy mainly trying win conservative party primaries complaining burkinis demanding assimilation however former adviser patrick buisson rightist recently published book disenchantment mr sarkozyhas said ready say needed get elected nothing french police ask woman remove clothing comply ban burkinis gravity situation matched sheer fecklessness european politicians according united nations statistics population europe including growing proportion highlyfertile nonwhites stagnate decline century africa set quadruple whopping 4 billion important tragic horrifying ungodly evil question facing western civilization mankind century europe turn african books warning islamization whether journalists secondrate politicians top bestseller lists french people care welfare pay checks longterm considerations even economic issues would rather stay denial vaguely hoping problems heavily staterun french economy inefficient eurozone monetary union sort rather ask hard questions ethnoreligious questions even inconceivable true diversity yet unmanageable problem daily lives frenchmen aside unpleasant evening news muslims shooting hundreds people rock concert running dozens people truck bastille day trying burn policemen death incidentally last time frances religious homogeneity brokenduring protestant reformationthis led civil war catholics protestants told mass government surveillance abrogation civil liberties mass murder fanatics middle eastern religion price pay enjoying fruits diversity dont like join scores european patriots fined even jailed antifreespeech laws inciting hatred way france passed special laws counter islamic terrorism laws invoked spy thousands patriots designated security threats nonetheless current offering next springs presidential elections france dismal besides mr hollande mr sarkozy french thoroughly disenchanted frontrunner conservative primaries alain jupp felon guilty misusing public funds proud frances diversity speaks frances new happy identity called steady serious candidatewho change nothing mayor bordeaux noted 60 percent students schools foreignlanguage speakers appeared think nothing worse exciting challenge eternal promise front national party risen unprecedented heights polls secondary elections come significant cost marine le pen gone great lengths detoxify party stay within bounds acceptable frances heavily policed statedependent mainstream media new fn talks dismantling european union euro identity islam let alone race marine le pen breaking new ground fight political incorrectness contrast alternative germanys frauke petry side rhine yet solid twothirds french people still strongly oppose miss le pen probably reach secondround runoff presidential elections lose landslide though surely better score fathers 18 percent 2002 majority frenchmen likely repelled prospect fn government represents working classes ethnocentric fringe conservatives part refused work fn ever since french branch bnai brith asked 1986 marine le pen groundbreaking politician france today probably mayor bziers robert mnard former life leftist founded reporters without borders calls reactionary broken french law counting citys school children religionhe found 65 percent muslim judging first names wants reinstate death penalty opposes homosexual marriage visited refugee center tell occupants welcome france recently proposed municipal referendum reject imposition refugees town disenchantment severe among french 83 percent think mr hollande disqualified president due failure unemployment twothirds think mr sarkozy mr hollande equally bad presidents solid majority continuously egged hostile media worried marine le pen inclined agree bestselling author ric zemmour whose latest book un quinquennat pour rien fiveyear term nothing says next years elections pointless divide aspirations french voters politicians offer believe explained authoritarian cliquishness french political system parties media serve critical choke points prevent penetration nationalist identitarian movements might appeal majority french people trumplike figurehalf independent billionaire half media personalityhas emerged break stranglehold uniting nationalist fringe disenfranchised white working class mainstream conservative voters depressing one must forget great european historian dominique venner said history nothing set strategic surprises presidential elections april may six months long time politics france cannot remain unaffected enormous political cultural gains made recent years nationalists across west happy surprises happen donald trump win would set patriotic antiimmigration precedent many europeans governments long tradition opportunistic european politicians slavishly following american political cultural lead mainstream political establishments across europe reeling economic crisis migrant invasion andone must underestimate thisthe mainstream medias economic legitimacy crisis due rise alternative media establishments merely trying dull bovine reflex keep ship course without ever questioning premises proving harder harder german chancellor angela merkel role opening floodgates afroislamic colonization objective enemy europe facing real problems party socalled christiandemocratic union reached lowest ever levels support falling less 30 percent critical mediapolitical choke points power democratic westparticularly america germany franceare open takeover ever one two go particularly america many rest likely follow lucky major shift towards nationalpopulist governments could possible would appeal great majority people drastically reduce pace dispossession could prelude far greater things come']"
      ]
     },
     "execution_count": 29,
     "metadata": {},
     "output_type": "execute_result"
    }
   ],
   "source": [
    "X_train[:1]"
   ]
  },
  {
   "cell_type": "code",
   "execution_count": null,
   "metadata": {},
   "outputs": [],
   "source": []
  },
  {
   "cell_type": "markdown",
   "metadata": {},
   "source": [
    "### BOW Approach"
   ]
  },
  {
   "cell_type": "code",
   "execution_count": 30,
   "metadata": {},
   "outputs": [],
   "source": [
    "# Word Frequency calculator\n",
    "def word_frequency(data):\n",
    "    tokenizer = nltk.tokenize.WhitespaceTokenizer()\n",
    "    words = {}\n",
    "    for line in data:\n",
    "        tokens = tokenizer.tokenize(line)\n",
    "        for token in tokens:\n",
    "            if token in words:\n",
    "                count = words[token] + 1\n",
    "                words[token] = count\n",
    "            else:\n",
    "                words[token] =  1\n",
    "                \n",
    "    return words"
   ]
  },
  {
   "cell_type": "code",
   "execution_count": 31,
   "metadata": {},
   "outputs": [],
   "source": [
    "# Dictionary of all words from train corpus with their counts.\n",
    "words_counts = word_frequency(X_train)"
   ]
  },
  {
   "cell_type": "code",
   "execution_count": 32,
   "metadata": {},
   "outputs": [
    {
     "data": {
      "text/plain": [
       "[('said', 62271),\n",
       " ('mr', 52541),\n",
       " ('trump', 35559),\n",
       " ('new', 28645),\n",
       " ('one', 28260),\n",
       " ('would', 27800),\n",
       " ('people', 26458),\n",
       " ('us', 19749),\n",
       " ('like', 19598),\n",
       " ('also', 19490)]"
      ]
     },
     "execution_count": 32,
     "metadata": {},
     "output_type": "execute_result"
    }
   ],
   "source": [
    "most_common_words = sorted(words_counts.items(), key=lambda x: x[1], reverse=True)[:10]\n",
    "most_common_words"
   ]
  },
  {
   "cell_type": "code",
   "execution_count": 33,
   "metadata": {},
   "outputs": [],
   "source": [
    "DICT_SIZE = 5000\n",
    "WORDS_TO_INDEX = {b[0]:a for a,b in enumerate(sorted(words_counts.items(), key=lambda x: x[1], reverse=True)[:5000])}\n",
    "INDEX_TO_WORDS = {b:a for a,b in WORDS_TO_INDEX.items()}\n",
    "ALL_WORDS = WORDS_TO_INDEX.keys()\n",
    "\n",
    "def my_bag_of_words(text, words_to_index, dict_size):\n",
    "    \"\"\"\n",
    "        text: a string\n",
    "        dict_size: size of the dictionary\n",
    "        \n",
    "        return a vector which is a bag-of-words representation of 'text'\n",
    "    \"\"\"\n",
    "      # create a zero vector equaling the size of words list\n",
    "    result_vector = np.zeros(dict_size)\n",
    "#     tokenizer = nltk.tokenize.WhitespaceTokenizer()\n",
    "#     tokens = tokenizer.tokenize(text)\n",
    "    for word in set(text.split()):\n",
    "        if word in words_to_index:\n",
    "            result_vector[words_to_index[word]] = 1\n",
    "            \n",
    "    return result_vector"
   ]
  },
  {
   "cell_type": "code",
   "execution_count": 34,
   "metadata": {},
   "outputs": [],
   "source": [
    "from scipy import sparse as sp_sparse"
   ]
  },
  {
   "cell_type": "code",
   "execution_count": 35,
   "metadata": {},
   "outputs": [
    {
     "name": "stdout",
     "output_type": "stream",
     "text": [
      "X_train shape  (16504, 5000)\n",
      "X_test shape  (4126, 5000)\n"
     ]
    }
   ],
   "source": [
    "X_train_mybag = sp_sparse.vstack([sp_sparse.csr_matrix(my_bag_of_words(text, WORDS_TO_INDEX, DICT_SIZE)) for text in X_train])\n",
    "X_test_mybag = sp_sparse.vstack([sp_sparse.csr_matrix(my_bag_of_words(text, WORDS_TO_INDEX, DICT_SIZE)) for text in X_test])\n",
    "print('X_train shape ', X_train_mybag.shape)\n",
    "print('X_test shape ', X_test_mybag.shape)"
   ]
  },
  {
   "cell_type": "code",
   "execution_count": 36,
   "metadata": {},
   "outputs": [],
   "source": [
    "row = X_train_mybag[10].toarray()[0]\n",
    "non_zero_elements_count = len(np.nonzero(row)[0])"
   ]
  },
  {
   "cell_type": "code",
   "execution_count": 37,
   "metadata": {},
   "outputs": [
    {
     "data": {
      "text/plain": [
       "97"
      ]
     },
     "execution_count": 37,
     "metadata": {},
     "output_type": "execute_result"
    }
   ],
   "source": [
    "non_zero_elements_count"
   ]
  },
  {
   "cell_type": "code",
   "execution_count": 38,
   "metadata": {},
   "outputs": [
    {
     "data": {
      "text/plain": [
       "array([[1., 1., 1., ..., 0., 0., 0.],\n",
       "       [0., 0., 0., ..., 0., 0., 0.],\n",
       "       [1., 1., 0., ..., 0., 0., 0.],\n",
       "       ...,\n",
       "       [1., 0., 1., ..., 0., 0., 1.],\n",
       "       [0., 0., 0., ..., 0., 0., 0.],\n",
       "       [1., 0., 1., ..., 0., 0., 0.]])"
      ]
     },
     "execution_count": 38,
     "metadata": {},
     "output_type": "execute_result"
    }
   ],
   "source": [
    "X_train_mybag.toarray()"
   ]
  },
  {
   "cell_type": "code",
   "execution_count": null,
   "metadata": {},
   "outputs": [],
   "source": []
  },
  {
   "cell_type": "code",
   "execution_count": null,
   "metadata": {},
   "outputs": [],
   "source": []
  },
  {
   "cell_type": "markdown",
   "metadata": {},
   "source": [
    "### Simple ANN model"
   ]
  },
  {
   "cell_type": "markdown",
   "metadata": {},
   "source": [
    "### Model 1"
   ]
  },
  {
   "cell_type": "code",
   "execution_count": 39,
   "metadata": {},
   "outputs": [
    {
     "name": "stderr",
     "output_type": "stream",
     "text": [
      "Using TensorFlow backend.\n"
     ]
    },
    {
     "name": "stdout",
     "output_type": "stream",
     "text": [
      "WARNING:tensorflow:From C:\\Users\\abhi\\Anaconda3\\envs\\tf_gpu_env\\lib\\site-packages\\tensorflow\\python\\framework\\op_def_library.py:263: colocate_with (from tensorflow.python.framework.ops) is deprecated and will be removed in a future version.\n",
      "Instructions for updating:\n",
      "Colocations handled automatically by placer.\n",
      "WARNING:tensorflow:From C:\\Users\\abhi\\Anaconda3\\envs\\tf_gpu_env\\lib\\site-packages\\keras\\backend\\tensorflow_backend.py:3445: calling dropout (from tensorflow.python.ops.nn_ops) with keep_prob is deprecated and will be removed in a future version.\n",
      "Instructions for updating:\n",
      "Please use `rate` instead of `keep_prob`. Rate should be set to `rate = 1 - keep_prob`.\n",
      "WARNING:tensorflow:From C:\\Users\\abhi\\Anaconda3\\envs\\tf_gpu_env\\lib\\site-packages\\tensorflow\\python\\ops\\math_ops.py:3066: to_int32 (from tensorflow.python.ops.math_ops) is deprecated and will be removed in a future version.\n",
      "Instructions for updating:\n",
      "Use tf.cast instead.\n",
      "WARNING:tensorflow:From C:\\Users\\abhi\\Anaconda3\\envs\\tf_gpu_env\\lib\\site-packages\\tensorflow\\python\\ops\\math_grad.py:102: div (from tensorflow.python.ops.math_ops) is deprecated and will be removed in a future version.\n",
      "Instructions for updating:\n",
      "Deprecated in favor of operator or tf.math.divide.\n",
      "Train on 13203 samples, validate on 3301 samples\n",
      "Epoch 1/3\n"
     ]
    },
    {
     "ename": "InternalError",
     "evalue": "Blas GEMM launch failed : a.shape=(100, 32), b.shape=(32, 32), m=100, n=32, k=32\n\t [[{{node bidirectional_1/while/MatMul_6}}]]\n\t [[{{node metrics/acc/Mean_1}}]]",
     "output_type": "error",
     "traceback": [
      "\u001b[1;31m---------------------------------------------------------------------------\u001b[0m",
      "\u001b[1;31mInternalError\u001b[0m                             Traceback (most recent call last)",
      "\u001b[1;32m<ipython-input-39-d30c9c9db4fa>\u001b[0m in \u001b[0;36m<module>\u001b[1;34m\u001b[0m\n\u001b[0;32m     29\u001b[0m \u001b[0mbatch_size\u001b[0m \u001b[1;33m=\u001b[0m \u001b[1;36m100\u001b[0m\u001b[1;33m\u001b[0m\u001b[1;33m\u001b[0m\u001b[0m\n\u001b[0;32m     30\u001b[0m \u001b[0mepochs\u001b[0m \u001b[1;33m=\u001b[0m \u001b[1;36m3\u001b[0m\u001b[1;33m\u001b[0m\u001b[1;33m\u001b[0m\u001b[0m\n\u001b[1;32m---> 31\u001b[1;33m \u001b[0mhistory\u001b[0m \u001b[1;33m=\u001b[0m \u001b[0mmodel\u001b[0m\u001b[1;33m.\u001b[0m\u001b[0mfit\u001b[0m\u001b[1;33m(\u001b[0m\u001b[0mX_train_\u001b[0m\u001b[1;33m,\u001b[0m\u001b[0my\u001b[0m\u001b[1;33m,\u001b[0m \u001b[0mbatch_size\u001b[0m\u001b[1;33m=\u001b[0m\u001b[0mbatch_size\u001b[0m\u001b[1;33m,\u001b[0m \u001b[0mepochs\u001b[0m\u001b[1;33m=\u001b[0m\u001b[0mepochs\u001b[0m\u001b[1;33m,\u001b[0m \u001b[0mvalidation_split\u001b[0m\u001b[1;33m=\u001b[0m\u001b[1;36m0.2\u001b[0m\u001b[1;33m)\u001b[0m\u001b[1;33m\u001b[0m\u001b[1;33m\u001b[0m\u001b[0m\n\u001b[0m",
      "\u001b[1;32m~\\Anaconda3\\envs\\tf_gpu_env\\lib\\site-packages\\keras\\engine\\training.py\u001b[0m in \u001b[0;36mfit\u001b[1;34m(self, x, y, batch_size, epochs, verbose, callbacks, validation_split, validation_data, shuffle, class_weight, sample_weight, initial_epoch, steps_per_epoch, validation_steps, **kwargs)\u001b[0m\n\u001b[0;32m   1037\u001b[0m                                         \u001b[0minitial_epoch\u001b[0m\u001b[1;33m=\u001b[0m\u001b[0minitial_epoch\u001b[0m\u001b[1;33m,\u001b[0m\u001b[1;33m\u001b[0m\u001b[1;33m\u001b[0m\u001b[0m\n\u001b[0;32m   1038\u001b[0m                                         \u001b[0msteps_per_epoch\u001b[0m\u001b[1;33m=\u001b[0m\u001b[0msteps_per_epoch\u001b[0m\u001b[1;33m,\u001b[0m\u001b[1;33m\u001b[0m\u001b[1;33m\u001b[0m\u001b[0m\n\u001b[1;32m-> 1039\u001b[1;33m                                         validation_steps=validation_steps)\n\u001b[0m\u001b[0;32m   1040\u001b[0m \u001b[1;33m\u001b[0m\u001b[0m\n\u001b[0;32m   1041\u001b[0m     def evaluate(self, x=None, y=None,\n",
      "\u001b[1;32m~\\Anaconda3\\envs\\tf_gpu_env\\lib\\site-packages\\keras\\engine\\training_arrays.py\u001b[0m in \u001b[0;36mfit_loop\u001b[1;34m(model, f, ins, out_labels, batch_size, epochs, verbose, callbacks, val_f, val_ins, shuffle, callback_metrics, initial_epoch, steps_per_epoch, validation_steps)\u001b[0m\n\u001b[0;32m    197\u001b[0m                     \u001b[0mins_batch\u001b[0m\u001b[1;33m[\u001b[0m\u001b[0mi\u001b[0m\u001b[1;33m]\u001b[0m \u001b[1;33m=\u001b[0m \u001b[0mins_batch\u001b[0m\u001b[1;33m[\u001b[0m\u001b[0mi\u001b[0m\u001b[1;33m]\u001b[0m\u001b[1;33m.\u001b[0m\u001b[0mtoarray\u001b[0m\u001b[1;33m(\u001b[0m\u001b[1;33m)\u001b[0m\u001b[1;33m\u001b[0m\u001b[1;33m\u001b[0m\u001b[0m\n\u001b[0;32m    198\u001b[0m \u001b[1;33m\u001b[0m\u001b[0m\n\u001b[1;32m--> 199\u001b[1;33m                 \u001b[0mouts\u001b[0m \u001b[1;33m=\u001b[0m \u001b[0mf\u001b[0m\u001b[1;33m(\u001b[0m\u001b[0mins_batch\u001b[0m\u001b[1;33m)\u001b[0m\u001b[1;33m\u001b[0m\u001b[1;33m\u001b[0m\u001b[0m\n\u001b[0m\u001b[0;32m    200\u001b[0m                 \u001b[0mouts\u001b[0m \u001b[1;33m=\u001b[0m \u001b[0mto_list\u001b[0m\u001b[1;33m(\u001b[0m\u001b[0mouts\u001b[0m\u001b[1;33m)\u001b[0m\u001b[1;33m\u001b[0m\u001b[1;33m\u001b[0m\u001b[0m\n\u001b[0;32m    201\u001b[0m                 \u001b[1;32mfor\u001b[0m \u001b[0ml\u001b[0m\u001b[1;33m,\u001b[0m \u001b[0mo\u001b[0m \u001b[1;32min\u001b[0m \u001b[0mzip\u001b[0m\u001b[1;33m(\u001b[0m\u001b[0mout_labels\u001b[0m\u001b[1;33m,\u001b[0m \u001b[0mouts\u001b[0m\u001b[1;33m)\u001b[0m\u001b[1;33m:\u001b[0m\u001b[1;33m\u001b[0m\u001b[1;33m\u001b[0m\u001b[0m\n",
      "\u001b[1;32m~\\Anaconda3\\envs\\tf_gpu_env\\lib\\site-packages\\keras\\backend\\tensorflow_backend.py\u001b[0m in \u001b[0;36m__call__\u001b[1;34m(self, inputs)\u001b[0m\n\u001b[0;32m   2713\u001b[0m                 \u001b[1;32mreturn\u001b[0m \u001b[0mself\u001b[0m\u001b[1;33m.\u001b[0m\u001b[0m_legacy_call\u001b[0m\u001b[1;33m(\u001b[0m\u001b[0minputs\u001b[0m\u001b[1;33m)\u001b[0m\u001b[1;33m\u001b[0m\u001b[1;33m\u001b[0m\u001b[0m\n\u001b[0;32m   2714\u001b[0m \u001b[1;33m\u001b[0m\u001b[0m\n\u001b[1;32m-> 2715\u001b[1;33m             \u001b[1;32mreturn\u001b[0m \u001b[0mself\u001b[0m\u001b[1;33m.\u001b[0m\u001b[0m_call\u001b[0m\u001b[1;33m(\u001b[0m\u001b[0minputs\u001b[0m\u001b[1;33m)\u001b[0m\u001b[1;33m\u001b[0m\u001b[1;33m\u001b[0m\u001b[0m\n\u001b[0m\u001b[0;32m   2716\u001b[0m         \u001b[1;32melse\u001b[0m\u001b[1;33m:\u001b[0m\u001b[1;33m\u001b[0m\u001b[1;33m\u001b[0m\u001b[0m\n\u001b[0;32m   2717\u001b[0m             \u001b[1;32mif\u001b[0m \u001b[0mpy_any\u001b[0m\u001b[1;33m(\u001b[0m\u001b[0mis_tensor\u001b[0m\u001b[1;33m(\u001b[0m\u001b[0mx\u001b[0m\u001b[1;33m)\u001b[0m \u001b[1;32mfor\u001b[0m \u001b[0mx\u001b[0m \u001b[1;32min\u001b[0m \u001b[0minputs\u001b[0m\u001b[1;33m)\u001b[0m\u001b[1;33m:\u001b[0m\u001b[1;33m\u001b[0m\u001b[1;33m\u001b[0m\u001b[0m\n",
      "\u001b[1;32m~\\Anaconda3\\envs\\tf_gpu_env\\lib\\site-packages\\keras\\backend\\tensorflow_backend.py\u001b[0m in \u001b[0;36m_call\u001b[1;34m(self, inputs)\u001b[0m\n\u001b[0;32m   2673\u001b[0m             \u001b[0mfetched\u001b[0m \u001b[1;33m=\u001b[0m \u001b[0mself\u001b[0m\u001b[1;33m.\u001b[0m\u001b[0m_callable_fn\u001b[0m\u001b[1;33m(\u001b[0m\u001b[1;33m*\u001b[0m\u001b[0marray_vals\u001b[0m\u001b[1;33m,\u001b[0m \u001b[0mrun_metadata\u001b[0m\u001b[1;33m=\u001b[0m\u001b[0mself\u001b[0m\u001b[1;33m.\u001b[0m\u001b[0mrun_metadata\u001b[0m\u001b[1;33m)\u001b[0m\u001b[1;33m\u001b[0m\u001b[1;33m\u001b[0m\u001b[0m\n\u001b[0;32m   2674\u001b[0m         \u001b[1;32melse\u001b[0m\u001b[1;33m:\u001b[0m\u001b[1;33m\u001b[0m\u001b[1;33m\u001b[0m\u001b[0m\n\u001b[1;32m-> 2675\u001b[1;33m             \u001b[0mfetched\u001b[0m \u001b[1;33m=\u001b[0m \u001b[0mself\u001b[0m\u001b[1;33m.\u001b[0m\u001b[0m_callable_fn\u001b[0m\u001b[1;33m(\u001b[0m\u001b[1;33m*\u001b[0m\u001b[0marray_vals\u001b[0m\u001b[1;33m)\u001b[0m\u001b[1;33m\u001b[0m\u001b[1;33m\u001b[0m\u001b[0m\n\u001b[0m\u001b[0;32m   2676\u001b[0m         \u001b[1;32mreturn\u001b[0m \u001b[0mfetched\u001b[0m\u001b[1;33m[\u001b[0m\u001b[1;33m:\u001b[0m\u001b[0mlen\u001b[0m\u001b[1;33m(\u001b[0m\u001b[0mself\u001b[0m\u001b[1;33m.\u001b[0m\u001b[0moutputs\u001b[0m\u001b[1;33m)\u001b[0m\u001b[1;33m]\u001b[0m\u001b[1;33m\u001b[0m\u001b[1;33m\u001b[0m\u001b[0m\n\u001b[0;32m   2677\u001b[0m \u001b[1;33m\u001b[0m\u001b[0m\n",
      "\u001b[1;32m~\\Anaconda3\\envs\\tf_gpu_env\\lib\\site-packages\\tensorflow\\python\\client\\session.py\u001b[0m in \u001b[0;36m__call__\u001b[1;34m(self, *args, **kwargs)\u001b[0m\n\u001b[0;32m   1437\u001b[0m           ret = tf_session.TF_SessionRunCallable(\n\u001b[0;32m   1438\u001b[0m               \u001b[0mself\u001b[0m\u001b[1;33m.\u001b[0m\u001b[0m_session\u001b[0m\u001b[1;33m.\u001b[0m\u001b[0m_session\u001b[0m\u001b[1;33m,\u001b[0m \u001b[0mself\u001b[0m\u001b[1;33m.\u001b[0m\u001b[0m_handle\u001b[0m\u001b[1;33m,\u001b[0m \u001b[0margs\u001b[0m\u001b[1;33m,\u001b[0m \u001b[0mstatus\u001b[0m\u001b[1;33m,\u001b[0m\u001b[1;33m\u001b[0m\u001b[1;33m\u001b[0m\u001b[0m\n\u001b[1;32m-> 1439\u001b[1;33m               run_metadata_ptr)\n\u001b[0m\u001b[0;32m   1440\u001b[0m         \u001b[1;32mif\u001b[0m \u001b[0mrun_metadata\u001b[0m\u001b[1;33m:\u001b[0m\u001b[1;33m\u001b[0m\u001b[1;33m\u001b[0m\u001b[0m\n\u001b[0;32m   1441\u001b[0m           \u001b[0mproto_data\u001b[0m \u001b[1;33m=\u001b[0m \u001b[0mtf_session\u001b[0m\u001b[1;33m.\u001b[0m\u001b[0mTF_GetBuffer\u001b[0m\u001b[1;33m(\u001b[0m\u001b[0mrun_metadata_ptr\u001b[0m\u001b[1;33m)\u001b[0m\u001b[1;33m\u001b[0m\u001b[1;33m\u001b[0m\u001b[0m\n",
      "\u001b[1;32m~\\Anaconda3\\envs\\tf_gpu_env\\lib\\site-packages\\tensorflow\\python\\framework\\errors_impl.py\u001b[0m in \u001b[0;36m__exit__\u001b[1;34m(self, type_arg, value_arg, traceback_arg)\u001b[0m\n\u001b[0;32m    526\u001b[0m             \u001b[1;32mNone\u001b[0m\u001b[1;33m,\u001b[0m \u001b[1;32mNone\u001b[0m\u001b[1;33m,\u001b[0m\u001b[1;33m\u001b[0m\u001b[1;33m\u001b[0m\u001b[0m\n\u001b[0;32m    527\u001b[0m             \u001b[0mcompat\u001b[0m\u001b[1;33m.\u001b[0m\u001b[0mas_text\u001b[0m\u001b[1;33m(\u001b[0m\u001b[0mc_api\u001b[0m\u001b[1;33m.\u001b[0m\u001b[0mTF_Message\u001b[0m\u001b[1;33m(\u001b[0m\u001b[0mself\u001b[0m\u001b[1;33m.\u001b[0m\u001b[0mstatus\u001b[0m\u001b[1;33m.\u001b[0m\u001b[0mstatus\u001b[0m\u001b[1;33m)\u001b[0m\u001b[1;33m)\u001b[0m\u001b[1;33m,\u001b[0m\u001b[1;33m\u001b[0m\u001b[1;33m\u001b[0m\u001b[0m\n\u001b[1;32m--> 528\u001b[1;33m             c_api.TF_GetCode(self.status.status))\n\u001b[0m\u001b[0;32m    529\u001b[0m     \u001b[1;31m# Delete the underlying status object from memory otherwise it stays alive\u001b[0m\u001b[1;33m\u001b[0m\u001b[1;33m\u001b[0m\u001b[1;33m\u001b[0m\u001b[0m\n\u001b[0;32m    530\u001b[0m     \u001b[1;31m# as there is a reference to status from this from the traceback due to\u001b[0m\u001b[1;33m\u001b[0m\u001b[1;33m\u001b[0m\u001b[1;33m\u001b[0m\u001b[0m\n",
      "\u001b[1;31mInternalError\u001b[0m: Blas GEMM launch failed : a.shape=(100, 32), b.shape=(32, 32), m=100, n=32, k=32\n\t [[{{node bidirectional_1/while/MatMul_6}}]]\n\t [[{{node metrics/acc/Mean_1}}]]"
     ]
    }
   ],
   "source": [
    "import keras\n",
    "from keras.preprocessing.text import Tokenizer\n",
    "from keras.preprocessing.sequence import pad_sequences\n",
    "from keras.layers import Dense, Input, LSTM, Embedding, Activation, Dropout, GRU, Flatten\n",
    "from keras.layers import Bidirectional, GlobalMaxPool1D\n",
    "from keras.models import Model, Sequential\n",
    "from keras.layers import Convolution1D\n",
    "from keras import initializers, regularizers, constraints, optimizers, layers\n",
    "\n",
    "max_features = 6000\n",
    "tokenizer = Tokenizer(num_words = max_features)\n",
    "tokenizer.fit_on_texts(X_train)\n",
    "list_tokenized_train = tokenizer.texts_to_sequences(X_train)\n",
    "\n",
    "max_len = 500\n",
    "X_train_ = pad_sequences(list_tokenized_train, maxlen=max_len)\n",
    "y = y_train\n",
    "\n",
    "embed_size = 128\n",
    "model = Sequential()\n",
    "model.add(Embedding(max_features, embed_size))\n",
    "model.add(Bidirectional(LSTM(32, return_sequences = True)))\n",
    "model.add(GlobalMaxPool1D())\n",
    "model.add(Dense(20, activation='relu'))\n",
    "model.add(Dropout(0.05))\n",
    "model.add(Dense(1, activation='sigmoid'))\n",
    "model.compile(loss='binary_crossentropy', optimizer='rmsprop', metrics=['accuracy'])\n",
    "\n",
    "batch_size = 100\n",
    "epochs = 3\n",
    "history = model.fit(X_train_,y, batch_size=batch_size, epochs=epochs, validation_split=0.2)"
   ]
  },
  {
   "cell_type": "code",
   "execution_count": null,
   "metadata": {},
   "outputs": [],
   "source": [
    "acc = history.history['acc']\n",
    "val_acc = history.history['val_acc']\n",
    "loss = history.history['loss']\n",
    "val_loss = history.history['val_loss']\n",
    "epochs = range(1, len(acc) + 1)\n",
    "plt.plot(epochs, acc, 'bo', label='Training acc')\n",
    "plt.plot(epochs, val_acc, 'b', label='Validation acc')\n",
    "plt.title('Training and validation accuracy')\n",
    "plt.legend()\n",
    "plt.figure()\n",
    "plt.plot(epochs, loss, 'bo', label='Training loss')\n",
    "plt.plot(epochs, val_loss, 'b', label='Validation loss')\n",
    "plt.title('Training and validation loss')\n",
    "plt.legend()\n",
    "plt.show()"
   ]
  },
  {
   "cell_type": "code",
   "execution_count": null,
   "metadata": {},
   "outputs": [],
   "source": []
  },
  {
   "cell_type": "markdown",
   "metadata": {},
   "source": [
    "#### K-Fold Cross Validation"
   ]
  },
  {
   "cell_type": "code",
   "execution_count": null,
   "metadata": {},
   "outputs": [],
   "source": [
    "from sklearn.model_selection import StratifiedKFold"
   ]
  },
  {
   "cell_type": "code",
   "execution_count": null,
   "metadata": {},
   "outputs": [],
   "source": [
    "# Fixed random seed for reproducibility\n",
    "seed = 7\n",
    "np.random.seed(seed)"
   ]
  },
  {
   "cell_type": "code",
   "execution_count": null,
   "metadata": {},
   "outputs": [],
   "source": [
    "# define 10-fold cross validation test harness\n",
    "kfold = StratifiedKFold(n_splits=10, shuffle=True, random_state=seed)\n",
    "cvscores = []\n",
    "\n",
    "max_features = 6000\n",
    "tokenizer = Tokenizer(num_words = max_features)\n",
    "tokenizer.fit_on_texts(X_train)\n",
    "list_tokenized_train = tokenizer.texts_to_sequences(X_train)\n",
    "\n",
    "max_len = 500\n",
    "X_t = pad_sequences(list_tokenized_train, maxlen=max_len)\n",
    "y = y_train\n"
   ]
  },
  {
   "cell_type": "code",
   "execution_count": null,
   "metadata": {
    "scrolled": false
   },
   "outputs": [],
   "source": [
    "embed_size = 128\n",
    "model = Sequential()\n",
    "model.add(Embedding(max_features, embed_size))\n",
    "model.add(Bidirectional(LSTM(32, return_sequences = True)))\n",
    "model.add(GlobalMaxPool1D())\n",
    "model.add(Dense(20, activation='relu'))\n",
    "model.add(Dropout(0.05))\n",
    "model.add(Dense(1, activation='sigmoid'))\n",
    "model.compile(loss='binary_crossentropy', optimizer='rmsprop', metrics=['accuracy'])\n",
    "\n",
    "    \n",
    "for train, test in kfold.split(X_t, y):\n",
    "#     print(len(train),len(test))\n",
    "    batch_size = 100\n",
    "    epochs = 3\n",
    "    model.fit(X_t,y, batch_size=batch_size, epochs=epochs, validation_split=0.2)\n",
    "    # evaluate the model\n",
    "    scores = model.evaluate(X_t[train], y[train], verbose=0)\n",
    "    print(\"%s: %.2f%%\" % (model.metrics_names[1], scores[1]*100))\n",
    "    cvscores.append(scores[1] * 100)"
   ]
  },
  {
   "cell_type": "code",
   "execution_count": null,
   "metadata": {},
   "outputs": [],
   "source": [
    "print(\"%.2f%% (+/- %.2f%%)\" % (np.mean(cvscores), np.std(cvscores)))"
   ]
  },
  {
   "cell_type": "code",
   "execution_count": null,
   "metadata": {},
   "outputs": [],
   "source": []
  },
  {
   "cell_type": "code",
   "execution_count": null,
   "metadata": {},
   "outputs": [],
   "source": [
    "acc = history.history['acc']\n",
    "val_acc = history.history['val_acc']\n",
    "loss = history.history['loss']\n",
    "val_loss = history.history['val_loss']\n",
    "epochs = range(1, len(acc) + 1)\n",
    "plt.plot(epochs, acc, 'bo', label='Training acc')\n",
    "plt.plot(epochs, val_acc, 'b', label='Validation acc')\n",
    "plt.title('Training and validation accuracy')\n",
    "plt.legend()\n",
    "plt.figure()\n",
    "plt.plot(epochs, loss, 'bo', label='Training loss')\n",
    "plt.plot(epochs, val_loss, 'b', label='Validation loss')\n",
    "plt.title('Training and validation loss')\n",
    "plt.legend()\n",
    "plt.show()"
   ]
  },
  {
   "cell_type": "code",
   "execution_count": null,
   "metadata": {},
   "outputs": [],
   "source": []
  },
  {
   "cell_type": "markdown",
   "metadata": {},
   "source": [
    "### Model 2"
   ]
  },
  {
   "cell_type": "code",
   "execution_count": null,
   "metadata": {},
   "outputs": [],
   "source": [
    "from keras.layers import MaxPool1D"
   ]
  },
  {
   "cell_type": "code",
   "execution_count": null,
   "metadata": {},
   "outputs": [],
   "source": [
    "tokenizer = Tokenizer(num_words = max_features)\n",
    "tokenizer.fit_on_texts(X_train)\n",
    "list_tokenized_train = tokenizer.texts_to_sequences(X_train)\n",
    "max_features = 50000\n",
    "maxlen = 500\n",
    "\n",
    "X_t = pad_sequences(list_tokenized_train, maxlen=max_len)\n",
    "y = y_train\n",
    "\n",
    "model_2 = Sequential()\n",
    "model_2.add(Embedding(max_features, 8, input_length=maxlen))\n",
    "model_2.add(MaxPool1D(pool_size=7, strides=None, padding='valid', data_format='channels_last'))\n",
    "# model_2.add(MaxPool1D(pool_size=7, strides=None, padding='valid', data_format='channels_last'))\n",
    "model_2.add(MaxPool1D(pool_size=3, strides=None, padding='valid', data_format='channels_last'))\n",
    "model_2.add(MaxPool1D(pool_size=3, strides=None, padding='valid', data_format='channels_last'))\n",
    "model_2.add(MaxPool1D(pool_size=3, strides=None, padding='valid', data_format='channels_last'))\n",
    "# model_2.add(MaxPool1D(pool_size=3, strides=None, padding='valid', data_format='channels_last'))\n",
    "model_2.add(Flatten())\n",
    "\n",
    "model_2.add(Dense(32, activation='relu'))\n",
    "model_2.add(Dense(1, activation='sigmoid'))\n",
    "model_2.compile(optimizer='adam', loss='binary_crossentropy', metrics=['acc'])\n",
    "model_2.summary()\n",
    "\n",
    "batch_size_2 = 100\n",
    "epochs_2 = 10\n",
    "history_2 = model_2.fit(X_t, y, epochs=epochs_2, batch_size=batch_size_2, validation_split=0.2)"
   ]
  },
  {
   "cell_type": "code",
   "execution_count": null,
   "metadata": {},
   "outputs": [],
   "source": [
    "acc = history_2.history['acc']\n",
    "val_acc = history_2.history['val_acc']\n",
    "loss = history_2.history['loss']\n",
    "val_loss = history_2.history['val_loss']\n",
    "epochs = range(1, len(acc) + 1)\n",
    "plt.plot(epochs, acc, 'bo', label='Training acc')\n",
    "plt.plot(epochs, val_acc, 'b', label='Validation acc')\n",
    "plt.title('Training and validation accuracy')\n",
    "plt.legend()\n",
    "plt.figure()\n",
    "plt.plot(epochs, loss, 'bo', label='Training loss')\n",
    "plt.plot(epochs, val_loss, 'b', label='Validation loss')\n",
    "plt.title('Training and validation loss')\n",
    "plt.legend()\n",
    "plt.show()"
   ]
  },
  {
   "cell_type": "code",
   "execution_count": null,
   "metadata": {},
   "outputs": [],
   "source": []
  },
  {
   "cell_type": "markdown",
   "metadata": {},
   "source": [
    "#### K-Fold Cross Validation"
   ]
  },
  {
   "cell_type": "code",
   "execution_count": null,
   "metadata": {},
   "outputs": [],
   "source": []
  },
  {
   "cell_type": "code",
   "execution_count": null,
   "metadata": {},
   "outputs": [],
   "source": [
    "# Fixed random seed for reproducibility\n",
    "seed = 7\n",
    "np.random.seed(seed)"
   ]
  },
  {
   "cell_type": "code",
   "execution_count": null,
   "metadata": {},
   "outputs": [],
   "source": [
    "# define 10-fold cross validation test harness\n",
    "kfold = StratifiedKFold(n_splits=10, shuffle=True, random_state=seed)\n",
    "cvscores = []\n",
    "\n",
    "tokenizer = Tokenizer(num_words = max_features)\n",
    "tokenizer.fit_on_texts(X_train)\n",
    "list_tokenized_train = tokenizer.texts_to_sequences(X_train)\n",
    "max_features = 50000\n",
    "maxlen = 500\n",
    "\n",
    "X_t = pad_sequences(list_tokenized_train, maxlen=max_len)\n",
    "y = y_train\n"
   ]
  },
  {
   "cell_type": "code",
   "execution_count": null,
   "metadata": {},
   "outputs": [],
   "source": [
    "model_2 = Sequential()\n",
    "model_2.add(Embedding(max_features, 8, input_length=maxlen))\n",
    "model_2.add(MaxPool1D(pool_size=7, strides=None, padding='valid', data_format='channels_last'))\n",
    "# model_2.add(MaxPool1D(pool_size=7, strides=None, padding='valid', data_format='channels_last'))\n",
    "model_2.add(MaxPool1D(pool_size=3, strides=None, padding='valid', data_format='channels_last'))\n",
    "model_2.add(MaxPool1D(pool_size=3, strides=None, padding='valid', data_format='channels_last'))\n",
    "model_2.add(MaxPool1D(pool_size=3, strides=None, padding='valid', data_format='channels_last'))\n",
    "# model_2.add(MaxPool1D(pool_size=3, strides=None, padding='valid', data_format='channels_last'))\n",
    "model_2.add(Flatten())\n",
    "\n",
    "model_2.add(Dense(32, activation='relu'))\n",
    "model_2.add(Dense(1, activation='sigmoid'))\n",
    "model_2.compile(optimizer='adam', loss='binary_crossentropy', metrics=['acc'])\n",
    "model_2.summary()\n",
    "\n",
    "for train, test in kfold.split(X_t, y):\n",
    "    batch_size_2 = 100\n",
    "    epochs_2 = 10\n",
    "    model_2.fit(X_t, y, epochs=epochs_2, batch_size=batch_size_2, validation_split=0.2)\n",
    "    # evaluate the model\n",
    "    scores = model_2.evaluate(X_t[train], y[train], verbose=0)\n",
    "    print(\"%s: %.2f%%\" % (model_2.metrics_names[1], scores[1]*100))\n",
    "    cvscores.append(scores[1] * 100)"
   ]
  },
  {
   "cell_type": "code",
   "execution_count": null,
   "metadata": {},
   "outputs": [],
   "source": [
    "print(\"%.2f%% (+/- %.2f%%)\" % (np.mean(cvscores), np.std(cvscores)))"
   ]
  },
  {
   "cell_type": "code",
   "execution_count": null,
   "metadata": {},
   "outputs": [],
   "source": [
    "# tokenizer = Tokenizer(num_words = max_features)\n",
    "# tokenizer.fit_on_texts(X_train)\n",
    "list_tokenized_test = tokenizer.texts_to_sequences(X_train)\n",
    "\n",
    "X_test = pad_sequences(list_tokenized_test, maxlen=max_len)\n",
    "model_2_pred_cv = model_2.predict(X_test)"
   ]
  },
  {
   "cell_type": "code",
   "execution_count": null,
   "metadata": {},
   "outputs": [],
   "source": [
    "model_2_pred_cv"
   ]
  },
  {
   "cell_type": "code",
   "execution_count": null,
   "metadata": {},
   "outputs": [],
   "source": [
    "y_test.shape, X_test.shape"
   ]
  },
  {
   "cell_type": "code",
   "execution_count": null,
   "metadata": {},
   "outputs": [],
   "source": [
    "score, acc = model_2.evaluate(X_test, y_test,\n",
    "                            batch_size=batch_size)\n",
    "print('Test score:', score)\n",
    "print('Test accuracy:', acc)"
   ]
  },
  {
   "cell_type": "code",
   "execution_count": null,
   "metadata": {},
   "outputs": [],
   "source": []
  }
 ],
 "metadata": {
  "kernelspec": {
   "display_name": "Python 3",
   "language": "python",
   "name": "python3"
  },
  "language_info": {
   "codemirror_mode": {
    "name": "ipython",
    "version": 3
   },
   "file_extension": ".py",
   "mimetype": "text/x-python",
   "name": "python",
   "nbconvert_exporter": "python",
   "pygments_lexer": "ipython3",
   "version": "3.6.8"
  }
 },
 "nbformat": 4,
 "nbformat_minor": 2
}
